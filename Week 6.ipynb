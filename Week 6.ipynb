{
 "cells": [
  {
   "cell_type": "code",
   "execution_count": 3,
   "metadata": {},
   "outputs": [
    {
     "name": "stdout",
     "output_type": "stream",
     "text": [
      "{'gold': 550, 'pouch': ['flint', 'twine', 'gemstone'], 'backpack': ['bedroll', 'bread loaf', 'xylophone'], 'pocket': ['seashell', 'strange berry', 'lint']}\n"
     ]
    }
   ],
   "source": [
    "# Number 1\n",
    "\n",
    "inventory = {\n",
    "    'gold' : 500,\n",
    "    'pouch' : ['flint', 'twine', 'gemstone'],\n",
    "    'backpack' : ['xylophone','dagger', 'bedroll','bread loaf']\n",
    "}\n",
    "\n",
    "inventory['pocket'] = ['seashell','strange berry','lint']\n",
    "inventory['backpack'].sort()\n",
    "inventory['backpack'].remove('dagger')\n",
    "inventory['gold'] = inventory['gold'] + 50\n",
    "\n",
    "print(inventory)"
   ]
  },
  {
   "cell_type": "code",
   "execution_count": 18,
   "metadata": {},
   "outputs": [
    {
     "name": "stdout",
     "output_type": "stream",
     "text": [
      "banana\n",
      "price: 4\n",
      "stock: 6\n",
      "apple\n",
      "price: 2\n",
      "stock: 0\n",
      "orange\n",
      "price: 1.5\n",
      "stock: 32\n",
      "pear\n",
      "price: 3\n",
      "stock: 15\n",
      "Total: 117.0\n"
     ]
    }
   ],
   "source": [
    "# Number 2\n",
    "\n",
    "stock = {\n",
    "    \"banana\": 6,\n",
    "    \"apple\": 0,\n",
    "    \"orange\": 32,\n",
    "    \"pear\": 15\n",
    "}\n",
    "\n",
    "prices = {\n",
    "    \"banana\": 4,\n",
    "    \"apple\": 2,\n",
    "    \"orange\": 1.5,\n",
    "    \"pear\": 3\n",
    "}\n",
    "\n",
    "for v in prices.keys():\n",
    "    print (v)\n",
    "    print('price:', prices[v])\n",
    "    print('stock:', stock[v])\n",
    "\n",
    "total = 0\n",
    "\n",
    "for i in prices.keys():\n",
    "    price = prices[i] * stock[i]\n",
    "    total = total + price\n",
    "\n",
    "print('Total:',total)\n"
   ]
  },
  {
   "cell_type": "code",
   "execution_count": 2,
   "metadata": {},
   "outputs": [
    {
     "data": {
      "text/plain": [
       "5.5"
      ]
     },
     "execution_count": 2,
     "metadata": {},
     "output_type": "execute_result"
    }
   ],
   "source": [
    "# Number 3\n",
    "\n",
    "groceries = ['banana','orange','apple']\n",
    "\n",
    "stock = {\n",
    "    \"banana\": 6,\n",
    "    \"apple\": 0,\n",
    "    \"orange\": 32,\n",
    "    \"pear\": 15\n",
    "}\n",
    "prices = {\n",
    "    \"banana\": 4,\n",
    "    \"apple\": 2,\n",
    "    \"orange\": 1.5,\n",
    "    \"pear\": 3\n",
    "}\n",
    "\n",
    "def compute_bill(food):\n",
    "    total = 0 \n",
    "    for i in food:\n",
    "        if stock[i] > 0:\n",
    "            total += prices[i]\n",
    "            stock[i] -= 1\n",
    "    return total\n",
    "\n",
    "compute_bill(groceries)\n"
   ]
  },
  {
   "cell_type": "code",
   "execution_count": 19,
   "metadata": {},
   "outputs": [
    {
     "name": "stdout",
     "output_type": "stream",
     "text": [
      "('name', 'Eren')\n",
      "('homework', [90.0, 97.0, 75.0, 92.0])\n",
      "('quizzes', [88.0, 40.0, 94.0])\n",
      "('tests', [75.0, 90.0])\n",
      "\n",
      "\n",
      "('name', 'Mikasa')\n",
      "('homework', [100.0, 92.0, 98.0, 100.0])\n",
      "('quizzes', [82.0, 83.0, 91.0])\n",
      "('tests', [89.0, 97.0])\n",
      "\n",
      "\n",
      "('name', 'Armin')\n",
      "('homework', [0.0, 87.0, 75.0, 22.0])\n",
      "('quizzes', [0.0, 75.0, 78.0])\n",
      "('tests', [100.0, 100.0])\n",
      "\n",
      "\n",
      "Eren's letter grade is: B \n",
      "\n",
      "The class grade average is: 83.87\n",
      "The class letter grade average is: B\n"
     ]
    }
   ],
   "source": [
    "# Number 4\n",
    "\n",
    "eren = {\n",
    "    \"name\": \"Eren\",\n",
    "    \"homework\": [90.0,97.0,75.0,92.0],\n",
    "    \"quizzes\": [88.0,40.0,94.0],\n",
    "    \"tests\": [75.0,90.0]\n",
    "}\n",
    "mikasa = {\n",
    "    \"name\": \"Mikasa\",\n",
    "    \"homework\": [100.0, 92.0, 98.0, 100.0],\n",
    "    \"quizzes\": [82.0, 83.0, 91.0],\n",
    "    \"tests\": [89.0, 97.0]\n",
    "}\n",
    "armin = {\n",
    "    \"name\": \"Armin\",\n",
    "    \"homework\": [0.0, 87.0, 75.0, 22.0],\n",
    "    \"quizzes\": [0.0, 75.0, 78.0],\n",
    "    \"tests\": [100.0, 100.0]\n",
    "}\n",
    "\n",
    "students = [eren,mikasa,armin]\n",
    "\n",
    "for v in students:\n",
    "    for x in v.items():\n",
    "        print(x)\n",
    "    print(\"\\n\")\n",
    "\n",
    "def average(numbers):\n",
    "    total = float(sum(numbers))\n",
    "    return total/len(numbers)\n",
    "\n",
    "def get_average(student):\n",
    "    homework = average(student[\"homework\"])\n",
    "    quizzes = average(student[\"quizzes\"])\n",
    "    tests = average(student[\"tests\"])\n",
    "    sum = (homework * 0.1) + (quizzes * 0.3) + (tests * 0.6)\n",
    "    return sum\n",
    "\n",
    "def get_letter_grade(score=float):\n",
    "    if score >= 90:\n",
    "        return \"A\"\n",
    "    elif score >= 80:\n",
    "        return \"B\"\n",
    "    elif score >= 70:\n",
    "        return \"C\"\n",
    "    elif score >= 60:\n",
    "        return \"D\"\n",
    "    else:\n",
    "        return \"F\"\n",
    "print(\"Eren's letter grade is:\",get_letter_grade(get_average(eren)),'\\n')\n",
    "\n",
    "def get_class_average(students=[eren, mikasa, armin]):\n",
    "    results = []\n",
    "    for i in students:\n",
    "        results.append(get_average(i))\n",
    "    return average(results)\n",
    "\n",
    "print('The class grade average is:',round(get_class_average([eren, mikasa, armin]), 2))\n",
    "print('The class letter grade average is:',get_letter_grade(get_class_average([eren, mikasa, armin])))"
   ]
  }
 ],
 "metadata": {
  "kernelspec": {
   "display_name": "Python 3.10.6 64-bit",
   "language": "python",
   "name": "python3"
  },
  "language_info": {
   "codemirror_mode": {
    "name": "ipython",
    "version": 3
   },
   "file_extension": ".py",
   "mimetype": "text/x-python",
   "name": "python",
   "nbconvert_exporter": "python",
   "pygments_lexer": "ipython3",
   "version": "3.10.6"
  },
  "orig_nbformat": 4,
  "vscode": {
   "interpreter": {
    "hash": "17155dc7418f5d72b7d57771f68a5fe881f79834334c5aa1140d37dd27da37fc"
   }
  }
 },
 "nbformat": 4,
 "nbformat_minor": 2
}
