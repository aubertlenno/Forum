{
 "cells": [
  {
   "cell_type": "code",
   "execution_count": 2,
   "metadata": {},
   "outputs": [
    {
     "name": "stdout",
     "output_type": "stream",
     "text": [
      "The area of the circle is 153.94\n"
     ]
    }
   ],
   "source": [
    "# Number 1\n",
    "import math\n",
    "\n",
    "radius = eval(input(\"Please type the radius of a circle: \"))\n",
    "area = math.pi * pow(radius, 2)\n",
    "\n",
    "print(\"The area of the circle is\",'{:.2f}'.format(area))"
   ]
  },
  {
   "cell_type": "code",
   "execution_count": 15,
   "metadata": {},
   "outputs": [
    {
     "name": "stdout",
     "output_type": "stream",
     "text": [
      "Hartono Lenno\n"
     ]
    }
   ],
   "source": [
    "# Number 2\n",
    "\n",
    "firstName = input(\"Type your first name: \")\n",
    "lastName = input(\"Type your last name: \")\n",
    "null = ()\n",
    "\n",
    "null = lastName\n",
    "lastName = firstName\n",
    "firstName = null\n",
    "\n",
    "print(f\"{firstName} {lastName}\")"
   ]
  },
  {
   "cell_type": "code",
   "execution_count": 16,
   "metadata": {},
   "outputs": [
    {
     "name": "stdout",
     "output_type": "stream",
     "text": [
      "Red Black\n"
     ]
    }
   ],
   "source": [
    "# Number 3\n",
    "\n",
    "color_list = [\"Red\",'Green','White','Black']\n",
    "print(color_list[0],color_list[3])"
   ]
  },
  {
   "cell_type": "code",
   "execution_count": 17,
   "metadata": {},
   "outputs": [
    {
     "name": "stdout",
     "output_type": "stream",
     "text": [
      "14\n"
     ]
    }
   ],
   "source": [
    "# Number 4\n",
    "\n",
    "n = int(input(\"Type the value of n: \"))\n",
    "\n",
    "total = n + pow(n,2) + pow(n,3)\n",
    "print(total)"
   ]
  },
  {
   "cell_type": "code",
   "execution_count": 23,
   "metadata": {},
   "outputs": [
    {
     "name": "stdout",
     "output_type": "stream",
     "text": [
      "V = 4/3 × π × r3 =  904.78\n"
     ]
    }
   ],
   "source": [
    "# Number 5\n",
    "\n",
    "import math\n",
    "radius = float(6)\n",
    "diameter = radius * 2\n",
    "\n",
    "volume = 4/3 * math.pi * pow(radius,3)\n",
    "print(\"V = 4/3 × π × r3 = \",'{:.2f}'.format(volume))"
   ]
  },
  {
   "cell_type": "code",
   "execution_count": 25,
   "metadata": {},
   "outputs": [
    {
     "name": "stdout",
     "output_type": "stream",
     "text": [
      "4\n"
     ]
    }
   ],
   "source": [
    "# Number 6\n",
    "\n",
    "number = eval(input(\"Type a number: \"))\n",
    "number2 = 17\n",
    "\n",
    "if number < number2:\n",
    "    print(number2 - number)\n",
    "elif number > number2:\n",
    "    print((number - number2) * 2)"
   ]
  },
  {
   "cell_type": "code",
   "execution_count": 27,
   "metadata": {},
   "outputs": [
    {
     "name": "stdout",
     "output_type": "stream",
     "text": [
      "27\n"
     ]
    }
   ],
   "source": [
    "# Number 7\n",
    "\n",
    "number1 = eval(input('Choose a numbwer: '))\n",
    "number2 = eval(input('Choose a second number: '))\n",
    "number3 = eval(input('Choose a final number: '))\n",
    "sum = number1 +number2 +number3\n",
    "if number1 == number2 == number3:\n",
    "    sum *= 3\n",
    "print(sum)"
   ]
  },
  {
   "cell_type": "code",
   "execution_count": 32,
   "metadata": {},
   "outputs": [
    {
     "name": "stdout",
     "output_type": "stream",
     "text": [
      "The number is odd\n"
     ]
    }
   ],
   "source": [
    "# Number 8\n",
    "\n",
    "number = int(input(\"Type a number: \"))\n",
    "if number % 2 == 0:\n",
    "    print(\"The number is even\")\n",
    "elif number % 2 == 1:\n",
    "    print(\"The number is odd\")"
   ]
  },
  {
   "cell_type": "code",
   "execution_count": 51,
   "metadata": {},
   "outputs": [
    {
     "name": "stdout",
     "output_type": "stream",
     "text": [
      "it is not a vowel\n"
     ]
    }
   ],
   "source": [
    "# Number 9\n",
    "\n",
    "vowel = ['a','i','u','e','o']\n",
    "letter = input('Write one letter: ')\n",
    "\n",
    "true = vowel.count(letter)\n",
    "\n",
    "if true > 0:\n",
    "    print('it is a vowel')\n",
    "else:\n",
    "    print('it is not a vowel')"
   ]
  },
  {
   "cell_type": "code",
   "execution_count": 11,
   "metadata": {},
   "outputs": [
    {
     "name": "stdout",
     "output_type": "stream",
     "text": [
      "Not included\n"
     ]
    }
   ],
   "source": [
    "# Number 10\n",
    "\n",
    "data = [1,3,5,7,9]\n",
    "userInput = int(input(\"Check if the number your favorite number is included (1-10): \"))\n",
    "\n",
    "for i in data:\n",
    "    if i == userInput:\n",
    "        print(\"Included\")\n",
    "        break\n",
    "else:\n",
    "    print(\"Not included\")\n",
    "\n"
   ]
  },
  {
   "cell_type": "code",
   "execution_count": 65,
   "metadata": {},
   "outputs": [
    {
     "name": "stdout",
     "output_type": "stream",
     "text": [
      "|\n",
      "||||\n",
      "||\n",
      "|||||||||\n",
      "||||||\n"
     ]
    }
   ],
   "source": [
    "# Number 11\n",
    "\n",
    "def histogram(list):\n",
    "    for i in list:\n",
    "        x = str()\n",
    "        times = i\n",
    "        while(times > 0):\n",
    "          x += '|'\n",
    "          times = times - 1\n",
    "        print(x)\n",
    "\n",
    "histogram([1,4,2,9,6])"
   ]
  },
  {
   "cell_type": "code",
   "execution_count": 55,
   "metadata": {},
   "outputs": [
    {
     "name": "stdout",
     "output_type": "stream",
     "text": [
      "24 58 104 162 236 248 328 344 386 412 418 462 512 566 566 626 742 758 826 866 892 894 918 950 958 978 "
     ]
    }
   ],
   "source": [
    "# Number 12\n",
    "\n",
    "numbers = [\n",
    "386, 462, 47, 418, 907, 344, 236, 375, 823, 566, 597, 978, 328, 615, 953, 345,\n",
    "399, 162, 758, 219, 918, 237, 412, 566, 826, 248, 866, 950, 626, 949, 687, 217,\n",
    "815, 67, 104, 58, 512, 24, 892, 894, 767, 553, 81, 379, 843, 831, 445, 742, 717,\n",
    "958,743, 527]\n",
    "\n",
    "numbers.sort()\n",
    "for i in numbers:\n",
    "    if i % 2 == 0:\n",
    "        print(i, end=\" \")"
   ]
  },
  {
   "cell_type": "code",
   "execution_count": 59,
   "metadata": {},
   "outputs": [
    {
     "name": "stdout",
     "output_type": "stream",
     "text": [
      "0.75\n"
     ]
    }
   ],
   "source": [
    "# Number 13\n",
    "\n",
    "base = float(input(\"Type the base of the triangle\"))\n",
    "height = float(input(\"Type the height of the triangle\"))\n",
    "\n",
    "area = (1/2 * base) / height\n",
    "print(area)"
   ]
  },
  {
   "cell_type": "code",
   "execution_count": 21,
   "metadata": {},
   "outputs": [
    {
     "name": "stdout",
     "output_type": "stream",
     "text": [
      "The LCM is 72\n"
     ]
    }
   ],
   "source": [
    "# Number 14\n",
    "\n",
    "def calculate_lcm(number1,number2):\n",
    "    if number1 > number2:\n",
    "        higher = number1\n",
    "    else:\n",
    "        higher = number2\n",
    "\n",
    "    while True:\n",
    "        if higher % number1 == 0 and higher % number2 == 0:\n",
    "            lcm = higher\n",
    "            print(f\"The LCM is {lcm}\")\n",
    "            break\n",
    "        higher += 1\n",
    "\n",
    "number1 = int(input(\"Type the first number: \"))\n",
    "number2 = int(input(\"Type the second number: \"))\n",
    "\n",
    "calculate_lcm(number1,number2)"
   ]
  },
  {
   "cell_type": "code",
   "execution_count": 23,
   "metadata": {},
   "outputs": [
    {
     "name": "stdout",
     "output_type": "stream",
     "text": [
      "The sum of 3 numbers is 0\n"
     ]
    }
   ],
   "source": [
    "# Number 15\n",
    "\n",
    "number1 = int(input(\"Type the first number: \"))\n",
    "number2 = int(input(\"Type the second number: \"))\n",
    "number3 = int(input(\"Type the third number: \"))\n",
    "\n",
    "if number1 == number2 or number1 == number3 or number2 == number3:\n",
    "    print(\"The sum of 3 numbers is 0\")\n",
    "else:\n",
    "    sum = number1 + number2 + number3\n",
    "    print(f\"The sum of 3 numbers is {sum}\")"
   ]
  },
  {
   "cell_type": "code",
   "execution_count": 24,
   "metadata": {},
   "outputs": [
    {
     "name": "stdout",
     "output_type": "stream",
     "text": [
      "(4 + 3) ^ 2 = 49\n"
     ]
    }
   ],
   "source": [
    "# Number 16\n",
    "\n",
    "x = 4\n",
    "y = 3\n",
    "\n",
    "calculate = (x+y) * (x+y)\n",
    "\n",
    "print(f\"({x} + {y}) ^ 2 = {calculate}\")"
   ]
  },
  {
   "cell_type": "code",
   "execution_count": 28,
   "metadata": {},
   "outputs": [
    {
     "name": "stdout",
     "output_type": "stream",
     "text": [
      "12722.79\n"
     ]
    }
   ],
   "source": [
    "# Number 17\n",
    "\n",
    "amt = 10000\n",
    "interest = 3.5\n",
    "years = 7\n",
    "\n",
    "futureValue = amt * (1 + (interest/100))**years\n",
    "print(\"{:.2f}\".format(futureValue))"
   ]
  },
  {
   "cell_type": "code",
   "execution_count": 31,
   "metadata": {},
   "outputs": [
    {
     "name": "stdout",
     "output_type": "stream",
     "text": [
      "The distance between (x1, y1) and (x2, y2) is (1, 1)\n"
     ]
    }
   ],
   "source": [
    "# Number 18\n",
    "\n",
    "x1 = int(input(\"Type the value of x1: \"))\n",
    "x2 = int(input(\"Type the value of x2: \"))\n",
    "y1 = int(input(\"Type the value of y1: \"))\n",
    "y2 = int(input(\"Type the value of y2: \"))\n",
    "\n",
    "if x1 > x2:\n",
    "    xDiff = x1 - x2\n",
    "else:\n",
    "    xDiff = x2 - x1\n",
    "\n",
    "if y1 > y2:\n",
    "    yDiff = y1 - y2\n",
    "else:\n",
    "    yDiff = y2 - y1\n",
    "\n",
    "print(f\"The distance between (x1, y1) and (x2, y2) is ({xDiff}, {yDiff})\")"
   ]
  },
  {
   "cell_type": "code",
   "execution_count": 33,
   "metadata": {},
   "outputs": [
    {
     "name": "stdout",
     "output_type": "stream",
     "text": [
      "Calculate the sum of the first n integer.\n",
      "The sum of the first 8 integer is: 36\n"
     ]
    }
   ],
   "source": [
    "# Number 19\n",
    "\n",
    "print(\"Calculate the sum of the first n integer.\")\n",
    "n = int(input(\"Enter the value of n\"))\n",
    "sum = int((n * (n+1)) / 2)\n",
    "\n",
    "print(f\"The sum of the first {n} integer is: {sum}\")"
   ]
  },
  {
   "cell_type": "code",
   "execution_count": 34,
   "metadata": {},
   "outputs": [
    {
     "name": "stdout",
     "output_type": "stream",
     "text": [
      "Enter your height.\n",
      "Your height is 7.62cm\n"
     ]
    }
   ],
   "source": [
    "# Number 20\n",
    "\n",
    "print(\"Enter your height.\")\n",
    "feet = int(input(\"Feet: \"))\n",
    "inches = int(input(\"Inches: \"))\n",
    "height = ((feet * 12) + inches) * 2.54\n",
    "\n",
    "print(f\"Your height is {height}cm\")"
   ]
  },
  {
   "cell_type": "code",
   "execution_count": 42,
   "metadata": {},
   "outputs": [
    {
     "name": "stdout",
     "output_type": "stream",
     "text": [
      "The hypotenuse is: 5.0\n"
     ]
    }
   ],
   "source": [
    "# Number 21\n",
    "\n",
    "side1 = float(input(\"Enter the value of the first side: \"))\n",
    "side2 = float(input(\"Enter the value of the second side: \"))\n",
    "\n",
    "sideSquare = float(pow(side1, 2) + pow(side2, 2))\n",
    "hypotenuse = math.sqrt(sideSquare)\n",
    "\n",
    "print(\"The hypotenuse is:\",hypotenuse)"
   ]
  },
  {
   "cell_type": "code",
   "execution_count": 46,
   "metadata": {},
   "outputs": [
    {
     "name": "stdout",
     "output_type": "stream",
     "text": [
      "Your BMI is: 22.49\n"
     ]
    }
   ],
   "source": [
    "# Number 22\n",
    "\n",
    "weight = eval(input(\"Enter your weight in kg: \"))\n",
    "height = eval(input(\"Enter your height in cm: \"))\n",
    "\n",
    "height = height / 100\n",
    "\n",
    "bmi = weight / pow(height, 2)\n",
    "\n",
    "print(\"Your BMI is:\",'{:.2f}'.format(bmi))"
   ]
  },
  {
   "cell_type": "code",
   "execution_count": 51,
   "metadata": {},
   "outputs": [
    {
     "name": "stdout",
     "output_type": "stream",
     "text": [
      "The midpoint of the line is (3, 3)\n"
     ]
    }
   ],
   "source": [
    "# Number 23\n",
    "\n",
    "x1 = int(input(\"Type the value of x1: \"))\n",
    "y1 = int(input(\"Type the value of y1: \"))\n",
    "x2 = int(input(\"Type the value of x2: \"))\n",
    "y2 = int(input(\"Type the value of y2: \"))\n",
    "\n",
    "midpointx = int((x1 + x2) / 2)\n",
    "midpointy = int((y1 + y2) / 2)\n",
    "\n",
    "print(f\"The midpoint of the line is {midpointx, midpointy}\")"
   ]
  },
  {
   "cell_type": "code",
   "execution_count": 56,
   "metadata": {},
   "outputs": [
    {
     "name": "stdout",
     "output_type": "stream",
     "text": [
      "2002, 2009, 2016, 2023, 2037, 2044, 2051, 2058, 2072, 2079, 2086, 2093, 2107, 2114, 2121, 2128, 2142, 2149, 2156, 2163, 2177, 2184, 2191, 2198, 2212, 2219, 2226, 2233, 2247, 2254, 2261, 2268, 2282, 2289, 2296, 2303, 2317, 2324, 2331, 2338, 2352, 2359, 2366, 2373, 2387, 2394, 2401, 2408, 2422, 2429, 2436, 2443, 2457, 2464, 2471, 2478, 2492, 2499, 2506, 2513, 2527, 2534, 2541, 2548, 2562, 2569, 2576, 2583, 2597, 2604, 2611, 2618, 2632, 2639, 2646, 2653, 2667, 2674, 2681, 2688, 2702, 2709, 2716, 2723, 2737, 2744, 2751, 2758, 2772, 2779, 2786, 2793, 2807, 2814, 2821, 2828, 2842, 2849, 2856, 2863, 2877, 2884, 2891, 2898, 2912, 2919, 2926, 2933, 2947, 2954, 2961, 2968, 2982, 2989, 2996, 3003, 3017, 3024, 3031, 3038, 3052, 3059, 3066, 3073, 3087, 3094, 3101, 3108, 3122, 3129, 3136, 3143, 3157, 3164, 3171, 3178, 3192, 3199, "
     ]
    }
   ],
   "source": [
    "# Number 24\n",
    "\n",
    "number = range(2000,3200)\n",
    "for i in number:\n",
    "    if i % 7 == 0 and i % 5 != 0:\n",
    "        print(i, end=', ')"
   ]
  }
 ],
 "metadata": {
  "kernelspec": {
   "display_name": "Python 3.10.6 64-bit",
   "language": "python",
   "name": "python3"
  },
  "language_info": {
   "codemirror_mode": {
    "name": "ipython",
    "version": 3
   },
   "file_extension": ".py",
   "mimetype": "text/x-python",
   "name": "python",
   "nbconvert_exporter": "python",
   "pygments_lexer": "ipython3",
   "version": "3.10.6"
  },
  "orig_nbformat": 4,
  "vscode": {
   "interpreter": {
    "hash": "17155dc7418f5d72b7d57771f68a5fe881f79834334c5aa1140d37dd27da37fc"
   }
  }
 },
 "nbformat": 4,
 "nbformat_minor": 2
}
